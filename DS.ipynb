{
    "cells": [
        {
            "cell_type": "code",
            "execution_count": 3,
            "metadata": {
                "id": "2954a147-4e7d-415e-83ee-452c7c587677"
            },
            "outputs": [
                {
                    "data": {
                        "text/html": "<div>\n<style scoped>\n    .dataframe tbody tr th:only-of-type {\n        vertical-align: middle;\n    }\n\n    .dataframe tbody tr th {\n        vertical-align: top;\n    }\n\n    .dataframe thead th {\n        text-align: right;\n    }\n</style>\n<table border=\"1\" class=\"dataframe\">\n  <thead>\n    <tr style=\"text-align: right;\">\n      <th></th>\n      <th>Primary_Major</th>\n      <th>Employer_Name</th>\n      <th>City</th>\n      <th>State</th>\n    </tr>\n  </thead>\n  <tbody>\n    <tr>\n      <th>0</th>\n      <td>Accounting</td>\n      <td>Crowe</td>\n      <td>Champaign</td>\n      <td>Illinois</td>\n    </tr>\n    <tr>\n      <th>1</th>\n      <td>Accounting</td>\n      <td>Deloitte Tax</td>\n      <td>CHICAGO</td>\n      <td>Illinois</td>\n    </tr>\n    <tr>\n      <th>2</th>\n      <td>Accounting</td>\n      <td>PricewaterhouseCoopers</td>\n      <td>LOS ANGELES</td>\n      <td>California</td>\n    </tr>\n    <tr>\n      <th>3</th>\n      <td>Accounting</td>\n      <td>Veolia North America</td>\n      <td>BOSTON</td>\n      <td>Massachusetts</td>\n    </tr>\n    <tr>\n      <th>4</th>\n      <td>Accounting</td>\n      <td>Yummy Future</td>\n      <td>CHAMPAIGN</td>\n      <td>Illinois</td>\n    </tr>\n    <tr>\n      <th>5</th>\n      <td>Actuarial Science</td>\n      <td>Aon Consulting (NJ)</td>\n      <td>LOLNSHIRE</td>\n      <td>Illinois</td>\n    </tr>\n    <tr>\n      <th>6</th>\n      <td>Actuarial Science</td>\n      <td>Aon RE</td>\n      <td>ATLANTA</td>\n      <td>Georgia</td>\n    </tr>\n    <tr>\n      <th>7</th>\n      <td>Actuarial Science</td>\n      <td>Reinsurance Group of America</td>\n      <td>CHESTERFIELD</td>\n      <td>Missouri</td>\n    </tr>\n    <tr>\n      <th>8</th>\n      <td>Actuarial Science</td>\n      <td>SCOR Global Life; Insight Global(endorsed empl...</td>\n      <td>Leawood</td>\n      <td>Kansas</td>\n    </tr>\n    <tr>\n      <th>9</th>\n      <td>Advertising</td>\n      <td>Alhambra</td>\n      <td>Los Angelos</td>\n      <td>California</td>\n    </tr>\n  </tbody>\n</table>\n</div>",
                        "text/plain": "        Primary_Major                                      Employer_Name  \\\n0         Accounting                                               Crowe   \n1         Accounting                                        Deloitte Tax   \n2         Accounting                              PricewaterhouseCoopers   \n3         Accounting                                Veolia North America   \n4         Accounting                                        Yummy Future   \n5  Actuarial Science                                 Aon Consulting (NJ)   \n6  Actuarial Science                                              Aon RE   \n7  Actuarial Science                        Reinsurance Group of America   \n8  Actuarial Science   SCOR Global Life; Insight Global(endorsed empl...   \n9        Advertising                                            Alhambra   \n\n           City          State  \n0     Champaign       Illinois  \n1       CHICAGO       Illinois  \n2   LOS ANGELES     California  \n3        BOSTON  Massachusetts  \n4     CHAMPAIGN       Illinois  \n5     LOLNSHIRE       Illinois  \n6       ATLANTA        Georgia  \n7  CHESTERFIELD       Missouri  \n8       Leawood         Kansas  \n9   Los Angelos     California  "
                    },
                    "execution_count": 3,
                    "metadata": {},
                    "output_type": "execute_result"
                }
            ],
            "source": "# The code was removed by Watson Studio for sharing."
        },
        {
            "cell_type": "code",
            "execution_count": null,
            "metadata": {
                "id": "2e7456ab-dd9c-48b0-97a1-54097a55f4f4"
            },
            "outputs": [],
            "source": ""
        }
    ],
    "metadata": {
        "kernelspec": {
            "display_name": "Python 3.11",
            "language": "python",
            "name": "python3"
        },
        "language_info": {
            "codemirror_mode": {
                "name": "ipython",
                "version": 3
            },
            "file_extension": ".py",
            "mimetype": "text/x-python",
            "name": "python",
            "nbconvert_exporter": "python",
            "pygments_lexer": "ipython3",
            "version": "3.11.9"
        }
    },
    "nbformat": 4,
    "nbformat_minor": 4
}