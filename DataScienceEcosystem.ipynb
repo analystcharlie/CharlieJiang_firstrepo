{
 "cells": [
  {
   "cell_type": "markdown",
   "id": "8bbe4b99-436c-4660-b978-2f27b846e0e1",
   "metadata": {},
   "source": [
    "# Data Science Tools and Ecosystem\n"
   ]
  },
  {
   "cell_type": "markdown",
   "id": "fc0590e8-841a-41a8-ad81-7180b50a4591",
   "metadata": {},
   "source": [
    "In this notebook, Data Science Tools and Ecosystem are summarized."
   ]
  },
  {
   "cell_type": "markdown",
   "id": "78373e1b-c420-495d-a18b-5019dc067a53",
   "metadata": {},
   "source": [
    "**Objectives:**\n",
    "\n",
    "- List popular languages for Data Science\n",
    "- Describe commonly used libraries in Data Science\n",
    "- Demonstrate how to create and format tables in Markdown\n",
    "- Provide examples of evaluating arithmetic expressions in Python\n",
    "- Show how to convert minutes to hours using Python code\n"
   ]
  },
  {
   "cell_type": "markdown",
   "id": "9eef872d-8b7e-4c0e-82fe-6eab88967855",
   "metadata": {},
   "source": [
    "Some of the popular languages that Data Scientists use are:\n",
    "1. Python\n",
    "2. R\n",
    "3. SQL"
   ]
  },
  {
   "cell_type": "markdown",
   "id": "58d3a2cb-1fd1-4dee-bfab-9f0047925929",
   "metadata": {},
   "source": [
    "Some of the commonly used libraries used by Data Scientists include:\n",
    "1. Pandas\n",
    "2. Matplotlib\n",
    "3. Numpy"
   ]
  },
  {
   "cell_type": "markdown",
   "id": "a86452b3-54d0-42a5-8d45-2ed1d6974537",
   "metadata": {},
   "source": [
    "Table of Data Science tools\n",
    "\n",
    "| Data Science Tools       |\n",
    "|--------------------------|\n",
    "| Jupyter Notebook         |\n",
    "| RStudio                  |\n",
    "| Apache Zeppelin          |\n"
   ]
  },
  {
   "cell_type": "markdown",
   "id": "cedc5c6a-b68e-4609-986d-90c64e659708",
   "metadata": {},
   "source": [
    "### Below are a few examples of evaluating arithmetic expressions in Python\n"
   ]
  },
  {
   "cell_type": "code",
   "execution_count": 1,
   "id": "dd3eb669-5f4a-4ebe-85a9-503dcc648f52",
   "metadata": {},
   "outputs": [
    {
     "name": "stdout",
     "output_type": "stream",
     "text": [
      "8\n"
     ]
    }
   ],
   "source": [
    "# Addition\n",
    "result = 3 + 5\n",
    "print(result)  # Output: 8\n"
   ]
  },
  {
   "cell_type": "code",
   "execution_count": 2,
   "id": "09271867-830a-4445-9ae9-77afae510dfb",
   "metadata": {},
   "outputs": [
    {
     "name": "stdout",
     "output_type": "stream",
     "text": [
      "6\n"
     ]
    }
   ],
   "source": [
    "# Subtraction\n",
    "result = 10 - 4\n",
    "print(result)  # Output: 6\n"
   ]
  },
  {
   "cell_type": "code",
   "execution_count": 3,
   "id": "2cbdd8c0-aed6-4799-a14d-f9ea971b2880",
   "metadata": {},
   "outputs": [
    {
     "name": "stdout",
     "output_type": "stream",
     "text": [
      "42\n"
     ]
    }
   ],
   "source": [
    "# Multiplication\n",
    "result = 7 * 6\n",
    "print(result)  # Output: 42\n"
   ]
  },
  {
   "cell_type": "code",
   "execution_count": 4,
   "id": "27eae46b-b5fe-41a2-be4c-678afd47eb12",
   "metadata": {},
   "outputs": [
    {
     "name": "stdout",
     "output_type": "stream",
     "text": [
      "5.0\n"
     ]
    }
   ],
   "source": [
    "# Division\n",
    "result = 20 / 4\n",
    "print(result)  # Output: 5.0\n"
   ]
  },
  {
   "cell_type": "code",
   "execution_count": 5,
   "id": "ca105ce7-5c33-43ed-9479-cd19f68c8656",
   "metadata": {},
   "outputs": [
    {
     "data": {
      "text/plain": [
       "3.3333333333333335"
      ]
     },
     "execution_count": 5,
     "metadata": {},
     "output_type": "execute_result"
    }
   ],
   "source": [
    "# This will convert 200 minutes to hours by dividing by 60\n",
    "minutes = 200\n",
    "hours = minutes / 60\n",
    "hours\n"
   ]
  },
  {
   "cell_type": "markdown",
   "id": "b9a48c96-f304-444c-875d-0f7e8755ee40",
   "metadata": {},
   "source": [
    "## Author\n",
    "\n",
    "Charlie Jiang\n",
    "Analystcharlie@outlook.com\n"
   ]
  },
  {
   "cell_type": "code",
   "execution_count": null,
   "id": "16089442-4ff4-42c5-8055-9c5359f82aaa",
   "metadata": {},
   "outputs": [],
   "source": []
  }
 ],
 "metadata": {
  "kernelspec": {
   "display_name": "Python 3 (ipykernel)",
   "language": "python",
   "name": "python3"
  },
  "language_info": {
   "codemirror_mode": {
    "name": "ipython",
    "version": 3
   },
   "file_extension": ".py",
   "mimetype": "text/x-python",
   "name": "python",
   "nbconvert_exporter": "python",
   "pygments_lexer": "ipython3",
   "version": "3.12.5"
  }
 },
 "nbformat": 4,
 "nbformat_minor": 5
}
